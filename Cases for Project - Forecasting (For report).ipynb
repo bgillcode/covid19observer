{
 "cells": [
  {
   "cell_type": "code",
   "execution_count": 85,
   "metadata": {},
   "outputs": [
    {
     "name": "stdout",
     "output_type": "stream",
     "text": [
      "Requirement already satisfied: fbprophet in ./opt/anaconda3/lib/python3.7/site-packages (0.7.1)\n",
      "Requirement already satisfied: pandas in ./opt/anaconda3/lib/python3.7/site-packages (0.25.1)\n",
      "Requirement already satisfied: requests in ./opt/anaconda3/lib/python3.7/site-packages (2.22.0)\n",
      "Requirement already satisfied: plotly in ./opt/anaconda3/lib/python3.7/site-packages (4.10.0)\n",
      "Requirement already satisfied: tensorflow in ./opt/anaconda3/lib/python3.7/site-packages (2.3.0)\n",
      "Requirement already satisfied: sklearn in ./opt/anaconda3/lib/python3.7/site-packages (0.0)\n",
      "Requirement already satisfied: Cython>=0.22 in ./opt/anaconda3/lib/python3.7/site-packages (from fbprophet) (0.29.13)\n",
      "Requirement already satisfied: cmdstanpy==0.9.5 in ./opt/anaconda3/lib/python3.7/site-packages (from fbprophet) (0.9.5)\n",
      "Requirement already satisfied: pystan>=2.14 in ./opt/anaconda3/lib/python3.7/site-packages (from fbprophet) (2.19.1.1)\n",
      "Requirement already satisfied: numpy>=1.15.4 in ./opt/anaconda3/lib/python3.7/site-packages (from fbprophet) (1.17.2)\n",
      "Requirement already satisfied: matplotlib>=2.0.0 in ./opt/anaconda3/lib/python3.7/site-packages (from fbprophet) (3.1.1)\n",
      "Requirement already satisfied: LunarCalendar>=0.0.9 in ./opt/anaconda3/lib/python3.7/site-packages (from fbprophet) (0.0.9)\n",
      "Requirement already satisfied: convertdate>=2.1.2 in ./opt/anaconda3/lib/python3.7/site-packages (from fbprophet) (2.2.2)\n",
      "Requirement already satisfied: holidays>=0.10.2 in ./opt/anaconda3/lib/python3.7/site-packages (from fbprophet) (0.10.3)\n",
      "Requirement already satisfied: setuptools-git>=1.2 in ./opt/anaconda3/lib/python3.7/site-packages (from fbprophet) (1.2)\n",
      "Requirement already satisfied: python-dateutil>=2.8.0 in ./opt/anaconda3/lib/python3.7/site-packages (from fbprophet) (2.8.0)\n",
      "Requirement already satisfied: tqdm>=4.36.1 in ./opt/anaconda3/lib/python3.7/site-packages (from fbprophet) (4.36.1)\n",
      "Requirement already satisfied: pytz>=2017.2 in ./opt/anaconda3/lib/python3.7/site-packages (from pandas) (2019.3)\n",
      "Requirement already satisfied: certifi>=2017.4.17 in ./opt/anaconda3/lib/python3.7/site-packages (from requests) (2019.9.11)\n",
      "Requirement already satisfied: idna<2.9,>=2.5 in ./opt/anaconda3/lib/python3.7/site-packages (from requests) (2.8)\n",
      "Requirement already satisfied: chardet<3.1.0,>=3.0.2 in ./opt/anaconda3/lib/python3.7/site-packages (from requests) (3.0.4)\n",
      "Requirement already satisfied: urllib3!=1.25.0,!=1.25.1,<1.26,>=1.21.1 in ./opt/anaconda3/lib/python3.7/site-packages (from requests) (1.24.2)\n",
      "Requirement already satisfied: retrying>=1.3.3 in ./opt/anaconda3/lib/python3.7/site-packages (from plotly) (1.3.3)\n",
      "Requirement already satisfied: six in ./opt/anaconda3/lib/python3.7/site-packages (from plotly) (1.12.0)\n",
      "Requirement already satisfied: termcolor>=1.1.0 in ./opt/anaconda3/lib/python3.7/site-packages (from tensorflow) (1.1.0)\n",
      "Requirement already satisfied: tensorflow-estimator<2.4.0,>=2.3.0 in ./opt/anaconda3/lib/python3.7/site-packages (from tensorflow) (2.3.0)\n",
      "Requirement already satisfied: gast==0.3.3 in ./opt/anaconda3/lib/python3.7/site-packages (from tensorflow) (0.3.3)\n",
      "Requirement already satisfied: absl-py>=0.7.0 in ./opt/anaconda3/lib/python3.7/site-packages (from tensorflow) (0.10.0)\n",
      "Requirement already satisfied: grpcio>=1.8.6 in ./opt/anaconda3/lib/python3.7/site-packages (from tensorflow) (1.32.0)\n",
      "Requirement already satisfied: wrapt>=1.11.1 in ./opt/anaconda3/lib/python3.7/site-packages (from tensorflow) (1.11.2)\n",
      "Requirement already satisfied: astunparse==1.6.3 in ./opt/anaconda3/lib/python3.7/site-packages (from tensorflow) (1.6.3)\n",
      "Requirement already satisfied: opt-einsum>=2.3.2 in ./opt/anaconda3/lib/python3.7/site-packages (from tensorflow) (3.3.0)\n",
      "Requirement already satisfied: protobuf>=3.9.2 in ./opt/anaconda3/lib/python3.7/site-packages (from tensorflow) (3.13.0)\n",
      "Requirement already satisfied: tensorboard<3,>=2.3.0 in ./opt/anaconda3/lib/python3.7/site-packages (from tensorflow) (2.3.0)\n",
      "Requirement already satisfied: google-pasta>=0.1.8 in ./opt/anaconda3/lib/python3.7/site-packages (from tensorflow) (0.2.0)\n",
      "Requirement already satisfied: wheel>=0.26 in ./opt/anaconda3/lib/python3.7/site-packages (from tensorflow) (0.33.6)\n",
      "Requirement already satisfied: h5py<2.11.0,>=2.10.0 in ./opt/anaconda3/lib/python3.7/site-packages (from tensorflow) (2.10.0)\n",
      "Collecting scipy==1.4.1 (from tensorflow)\n",
      "  Using cached https://files.pythonhosted.org/packages/85/7a/ae480be23b768910a9327c33517ced4623ba88dc035f9ce0206657c353a9/scipy-1.4.1-cp37-cp37m-macosx_10_6_intel.whl\n",
      "Requirement already satisfied: keras-preprocessing<1.2,>=1.1.1 in ./opt/anaconda3/lib/python3.7/site-packages (from tensorflow) (1.1.2)\n",
      "Requirement already satisfied: scikit-learn in ./opt/anaconda3/lib/python3.7/site-packages (from sklearn) (0.23.2)\n",
      "Requirement already satisfied: cycler>=0.10 in ./opt/anaconda3/lib/python3.7/site-packages (from matplotlib>=2.0.0->fbprophet) (0.10.0)\n",
      "Requirement already satisfied: kiwisolver>=1.0.1 in ./opt/anaconda3/lib/python3.7/site-packages (from matplotlib>=2.0.0->fbprophet) (1.1.0)\n",
      "Requirement already satisfied: pyparsing!=2.0.4,!=2.1.2,!=2.1.6,>=2.0.1 in ./opt/anaconda3/lib/python3.7/site-packages (from matplotlib>=2.0.0->fbprophet) (2.4.2)\n",
      "Requirement already satisfied: ephem>=3.7.5.3 in ./opt/anaconda3/lib/python3.7/site-packages (from LunarCalendar>=0.0.9->fbprophet) (3.7.7.1)\n",
      "Requirement already satisfied: pymeeus<=1,>=0.3.6 in ./opt/anaconda3/lib/python3.7/site-packages (from convertdate>=2.1.2->fbprophet) (0.3.7)\n",
      "Requirement already satisfied: korean-lunar-calendar in ./opt/anaconda3/lib/python3.7/site-packages (from holidays>=0.10.2->fbprophet) (0.2.1)\n",
      "Requirement already satisfied: setuptools in ./opt/anaconda3/lib/python3.7/site-packages (from protobuf>=3.9.2->tensorflow) (41.4.0)\n",
      "Requirement already satisfied: google-auth-oauthlib<0.5,>=0.4.1 in ./opt/anaconda3/lib/python3.7/site-packages (from tensorboard<3,>=2.3.0->tensorflow) (0.4.1)\n",
      "Requirement already satisfied: markdown>=2.6.8 in ./opt/anaconda3/lib/python3.7/site-packages (from tensorboard<3,>=2.3.0->tensorflow) (3.2.2)\n",
      "Requirement already satisfied: google-auth<2,>=1.6.3 in ./opt/anaconda3/lib/python3.7/site-packages (from tensorboard<3,>=2.3.0->tensorflow) (1.21.2)\n",
      "Requirement already satisfied: tensorboard-plugin-wit>=1.6.0 in ./opt/anaconda3/lib/python3.7/site-packages (from tensorboard<3,>=2.3.0->tensorflow) (1.7.0)\n",
      "Requirement already satisfied: werkzeug>=0.11.15 in ./opt/anaconda3/lib/python3.7/site-packages (from tensorboard<3,>=2.3.0->tensorflow) (0.16.0)\n",
      "Requirement already satisfied: threadpoolctl>=2.0.0 in ./opt/anaconda3/lib/python3.7/site-packages (from scikit-learn->sklearn) (2.1.0)\n",
      "Requirement already satisfied: joblib>=0.11 in ./opt/anaconda3/lib/python3.7/site-packages (from scikit-learn->sklearn) (0.13.2)\n",
      "Requirement already satisfied: requests-oauthlib>=0.7.0 in ./opt/anaconda3/lib/python3.7/site-packages (from google-auth-oauthlib<0.5,>=0.4.1->tensorboard<3,>=2.3.0->tensorflow) (1.3.0)\n",
      "Requirement already satisfied: importlib-metadata; python_version < \"3.8\" in ./opt/anaconda3/lib/python3.7/site-packages (from markdown>=2.6.8->tensorboard<3,>=2.3.0->tensorflow) (0.23)\n",
      "Requirement already satisfied: rsa<5,>=3.1.4; python_version >= \"3.5\" in ./opt/anaconda3/lib/python3.7/site-packages (from google-auth<2,>=1.6.3->tensorboard<3,>=2.3.0->tensorflow) (4.6)\n",
      "Requirement already satisfied: cachetools<5.0,>=2.0.0 in ./opt/anaconda3/lib/python3.7/site-packages (from google-auth<2,>=1.6.3->tensorboard<3,>=2.3.0->tensorflow) (4.1.1)\n",
      "Requirement already satisfied: pyasn1-modules>=0.2.1 in ./opt/anaconda3/lib/python3.7/site-packages (from google-auth<2,>=1.6.3->tensorboard<3,>=2.3.0->tensorflow) (0.2.8)\n",
      "Requirement already satisfied: oauthlib>=3.0.0 in ./opt/anaconda3/lib/python3.7/site-packages (from requests-oauthlib>=0.7.0->google-auth-oauthlib<0.5,>=0.4.1->tensorboard<3,>=2.3.0->tensorflow) (3.1.0)\n",
      "Requirement already satisfied: zipp>=0.5 in ./opt/anaconda3/lib/python3.7/site-packages (from importlib-metadata; python_version < \"3.8\"->markdown>=2.6.8->tensorboard<3,>=2.3.0->tensorflow) (0.6.0)\n",
      "Requirement already satisfied: pyasn1>=0.1.3 in ./opt/anaconda3/lib/python3.7/site-packages (from rsa<5,>=3.1.4; python_version >= \"3.5\"->google-auth<2,>=1.6.3->tensorboard<3,>=2.3.0->tensorflow) (0.4.8)\n",
      "Requirement already satisfied: more-itertools in ./opt/anaconda3/lib/python3.7/site-packages (from zipp>=0.5->importlib-metadata; python_version < \"3.8\"->markdown>=2.6.8->tensorboard<3,>=2.3.0->tensorflow) (7.2.0)\n",
      "\u001b[31mERROR: pmdarima 1.7.1 has requirement numpy>=1.17.3, but you'll have numpy 1.17.2 which is incompatible.\u001b[0m\n",
      "\u001b[31mERROR: pmdarima 1.7.1 has requirement statsmodels<0.12,>=0.11, but you'll have statsmodels 0.10.1 which is incompatible.\u001b[0m\n",
      "Installing collected packages: scipy\n",
      "  Found existing installation: scipy 1.3.1\n",
      "    Uninstalling scipy-1.3.1:\n",
      "      Successfully uninstalled scipy-1.3.1\n",
      "Successfully installed scipy-1.4.1\n"
     ]
    }
   ],
   "source": [
    "! pip install fbprophet pandas requests plotly tensorflow sklearn"
   ]
  },
  {
   "cell_type": "code",
   "execution_count": 1,
   "metadata": {},
   "outputs": [],
   "source": [
    "import matplotlib.pyplot as plt\n",
    "import numpy as np\n",
    "import pandas as pd\n",
    "import requests\n",
    "\n",
    "from fbprophet import Prophet\n",
    "from sklearn.preprocessing import MinMaxScaler\n",
    "from sklearn.metrics import mean_squared_error, r2_score\n",
    "from sklearn.model_selection import GridSearchCV\n",
    "from sklearn.pipeline import Pipeline\n",
    "\n",
    "from tensorflow.keras.models import Sequential\n",
    "from tensorflow.keras.layers import Dense, LSTM\n",
    "from tensorflow.keras.preprocessing.sequence import TimeseriesGenerator"
   ]
  },
  {
   "cell_type": "code",
   "execution_count": 2,
   "metadata": {},
   "outputs": [
    {
     "data": {
      "text/html": [
       "<div>\n",
       "<style scoped>\n",
       "    .dataframe tbody tr th:only-of-type {\n",
       "        vertical-align: middle;\n",
       "    }\n",
       "\n",
       "    .dataframe tbody tr th {\n",
       "        vertical-align: top;\n",
       "    }\n",
       "\n",
       "    .dataframe thead th {\n",
       "        text-align: right;\n",
       "    }\n",
       "</style>\n",
       "<table border=\"1\" class=\"dataframe\">\n",
       "  <thead>\n",
       "    <tr style=\"text-align: right;\">\n",
       "      <th></th>\n",
       "      <th>areaType</th>\n",
       "      <th>areaName</th>\n",
       "      <th>areaCode</th>\n",
       "      <th>date</th>\n",
       "      <th>newCasesByPublishDate</th>\n",
       "      <th>cumCasesByPublishDate</th>\n",
       "    </tr>\n",
       "  </thead>\n",
       "  <tbody>\n",
       "    <tr>\n",
       "      <td>0</td>\n",
       "      <td>nation</td>\n",
       "      <td>England</td>\n",
       "      <td>E92000001</td>\n",
       "      <td>2020-10-01</td>\n",
       "      <td>5589</td>\n",
       "      <td>393931.0</td>\n",
       "    </tr>\n",
       "    <tr>\n",
       "      <td>1</td>\n",
       "      <td>nation</td>\n",
       "      <td>England</td>\n",
       "      <td>E92000001</td>\n",
       "      <td>2020-09-30</td>\n",
       "      <td>5656</td>\n",
       "      <td>388342.0</td>\n",
       "    </tr>\n",
       "    <tr>\n",
       "      <td>2</td>\n",
       "      <td>nation</td>\n",
       "      <td>England</td>\n",
       "      <td>E92000001</td>\n",
       "      <td>2020-09-29</td>\n",
       "      <td>5651</td>\n",
       "      <td>382686.0</td>\n",
       "    </tr>\n",
       "    <tr>\n",
       "      <td>3</td>\n",
       "      <td>nation</td>\n",
       "      <td>England</td>\n",
       "      <td>E92000001</td>\n",
       "      <td>2020-09-28</td>\n",
       "      <td>3316</td>\n",
       "      <td>377035.0</td>\n",
       "    </tr>\n",
       "    <tr>\n",
       "      <td>4</td>\n",
       "      <td>nation</td>\n",
       "      <td>England</td>\n",
       "      <td>E92000001</td>\n",
       "      <td>2020-09-27</td>\n",
       "      <td>4800</td>\n",
       "      <td>373719.0</td>\n",
       "    </tr>\n",
       "  </tbody>\n",
       "</table>\n",
       "</div>"
      ],
      "text/plain": [
       "  areaType areaName   areaCode        date  newCasesByPublishDate  \\\n",
       "0   nation  England  E92000001  2020-10-01                   5589   \n",
       "1   nation  England  E92000001  2020-09-30                   5656   \n",
       "2   nation  England  E92000001  2020-09-29                   5651   \n",
       "3   nation  England  E92000001  2020-09-28                   3316   \n",
       "4   nation  England  E92000001  2020-09-27                   4800   \n",
       "\n",
       "   cumCasesByPublishDate  \n",
       "0               393931.0  \n",
       "1               388342.0  \n",
       "2               382686.0  \n",
       "3               377035.0  \n",
       "4               373719.0  "
      ]
     },
     "execution_count": 2,
     "metadata": {},
     "output_type": "execute_result"
    }
   ],
   "source": [
    "API_URL = 'https://api.coronavirus.data.gov.uk/v1/data?filters=areaType=nation;areaName=England&structure=%7B%22areaType%22:%22areaType%22,%22areaName%22:%22areaName%22,%22areaCode%22:%22areaCode%22,%22date%22:%22date%22,%22newCasesByPublishDate%22:%22newCasesByPublishDate%22,%22cumCasesByPublishDate%22:%22cumCasesByPublishDate%22%7D&format=json'\n",
    "\n",
    "def pull_data(url):\n",
    "    response = requests.get(url)\n",
    "    if response.status_code == 200:\n",
    "        return response.json()['data']\n",
    "    print(\"Unable to fetch data\")\n",
    "\n",
    "data = pull_data(API_URL)\n",
    "df = pd.DataFrame(data)\n",
    "df.head()"
   ]
  },
  {
   "cell_type": "code",
   "execution_count": 3,
   "metadata": {},
   "outputs": [
    {
     "name": "stdout",
     "output_type": "stream",
     "text": [
      "<class 'pandas.core.frame.DataFrame'>\n",
      "RangeIndex: 273 entries, 0 to 272\n",
      "Data columns (total 6 columns):\n",
      "areaType                 273 non-null object\n",
      "areaName                 273 non-null object\n",
      "areaCode                 273 non-null object\n",
      "date                     273 non-null object\n",
      "newCasesByPublishDate    273 non-null int64\n",
      "cumCasesByPublishDate    245 non-null float64\n",
      "dtypes: float64(1), int64(1), object(4)\n",
      "memory usage: 12.9+ KB\n"
     ]
    },
    {
     "data": {
      "text/plain": [
       "0      2020-10-01\n",
       "1      2020-09-30\n",
       "2      2020-09-29\n",
       "3      2020-09-28\n",
       "4      2020-09-27\n",
       "          ...    \n",
       "268    2020-01-07\n",
       "269    2020-01-06\n",
       "270    2020-01-05\n",
       "271    2020-01-04\n",
       "272    2020-01-03\n",
       "Name: date, Length: 273, dtype: object"
      ]
     },
     "execution_count": 3,
     "metadata": {},
     "output_type": "execute_result"
    }
   ],
   "source": [
    "df.info()\n",
    "df['date']"
   ]
  },
  {
   "cell_type": "code",
   "execution_count": 4,
   "metadata": {},
   "outputs": [],
   "source": [
    "df['date'] = pd.to_datetime(df['date'])\n",
    "df = df.set_index('date').sort_index()\n",
    "# Drop the last row\n",
    "# df = df[:-2]\n",
    "df = df.tail(90)"
   ]
  },
  {
   "cell_type": "code",
   "execution_count": 5,
   "metadata": {},
   "outputs": [
    {
     "name": "stdout",
     "output_type": "stream",
     "text": [
      "           areaType areaName   areaCode  newCasesByPublishDate  \\\n",
      "date                                                             \n",
      "2020-08-03   nation  England  E92000001                    856   \n",
      "2020-08-04   nation  England  E92000001                    617   \n",
      "2020-08-05   nation  England  E92000001                    804   \n",
      "2020-08-06   nation  England  E92000001                    826   \n",
      "2020-08-07   nation  England  E92000001                    796   \n",
      "2020-08-08   nation  England  E92000001                    679   \n",
      "2020-08-09   nation  England  E92000001                    988   \n",
      "2020-08-10   nation  England  E92000001                    699   \n",
      "2020-08-11   nation  England  E92000001                   1035   \n",
      "2020-08-12   nation  England  E92000001                    925   \n",
      "2020-08-13   nation  England  E92000001                   1059   \n",
      "2020-08-14   nation  England  E92000001                   1284   \n",
      "2020-08-15   nation  England  E92000001                    934   \n",
      "2020-08-16   nation  England  E92000001                    952   \n",
      "2020-08-17   nation  England  E92000001                    634   \n",
      "2020-08-18   nation  England  E92000001                    975   \n",
      "2020-08-19   nation  England  E92000001                    707   \n",
      "2020-08-20   nation  England  E92000001                   1035   \n",
      "2020-08-21   nation  England  E92000001                    908   \n",
      "2020-08-22   nation  England  E92000001                   1060   \n",
      "2020-08-23   nation  England  E92000001                    938   \n",
      "2020-08-24   nation  England  E92000001                    758   \n",
      "2020-08-25   nation  England  E92000001                   1065   \n",
      "2020-08-26   nation  England  E92000001                    875   \n",
      "2020-08-27   nation  England  E92000001                   1350   \n",
      "2020-08-28   nation  England  E92000001                   1106   \n",
      "2020-08-29   nation  England  E92000001                    891   \n",
      "2020-08-30   nation  England  E92000001                   1487   \n",
      "2020-08-31   nation  England  E92000001                   1149   \n",
      "2020-09-01   nation  England  E92000001                   1041   \n",
      "2020-09-02   nation  England  E92000001                   1239   \n",
      "2020-09-03   nation  England  E92000001                   1507   \n",
      "2020-09-04   nation  England  E92000001                   1669   \n",
      "2020-09-05   nation  England  E92000001                   1477   \n",
      "2020-09-06   nation  England  E92000001                   2576   \n",
      "2020-09-07   nation  England  E92000001                   2528   \n",
      "2020-09-08   nation  England  E92000001                   2094   \n",
      "2020-09-09   nation  England  E92000001                   2286   \n",
      "2020-09-10   nation  England  E92000001                   2578   \n",
      "2020-09-11   nation  England  E92000001                   3143   \n",
      "2020-09-12   nation  England  E92000001                   3008   \n",
      "2020-09-13   nation  England  E92000001                   2837   \n",
      "2020-09-14   nation  England  E92000001                   2259   \n",
      "2020-09-15   nation  England  E92000001                   2649   \n",
      "2020-09-16   nation  England  E92000001                   3396   \n",
      "2020-09-17   nation  England  E92000001                   2788   \n",
      "2020-09-18   nation  England  E92000001                   3771   \n",
      "2020-09-19   nation  England  E92000001                   3638   \n",
      "2020-09-20   nation  England  E92000001                   3279   \n",
      "2020-09-21   nation  England  E92000001                   3754   \n",
      "2020-09-22   nation  England  E92000001                   4187   \n",
      "2020-09-23   nation  England  E92000001                   5083   \n",
      "2020-09-24   nation  England  E92000001                   5632   \n",
      "2020-09-25   nation  England  E92000001                   5723   \n",
      "2020-09-26   nation  England  E92000001                   4639   \n",
      "2020-09-27   nation  England  E92000001                   4800   \n",
      "2020-09-28   nation  England  E92000001                   3316   \n",
      "2020-09-29   nation  England  E92000001                   5651   \n",
      "2020-09-30   nation  England  E92000001                   5656   \n",
      "2020-10-01   nation  England  E92000001                   5589   \n",
      "\n",
      "            cumCasesByPublishDate  \n",
      "date                               \n",
      "2020-08-03               263602.0  \n",
      "2020-08-04               264219.0  \n",
      "2020-08-05               265023.0  \n",
      "2020-08-06               265849.0  \n",
      "2020-08-07               266645.0  \n",
      "2020-08-08               267324.0  \n",
      "2020-08-09               268312.0  \n",
      "2020-08-10               269011.0  \n",
      "2020-08-11               270046.0  \n",
      "2020-08-12               270971.0  \n",
      "2020-08-13               272030.0  \n",
      "2020-08-14               273314.0  \n",
      "2020-08-15               274248.0  \n",
      "2020-08-16               275200.0  \n",
      "2020-08-17               275834.0  \n",
      "2020-08-18               276809.0  \n",
      "2020-08-19               277516.0  \n",
      "2020-08-20               278551.0  \n",
      "2020-08-21               279459.0  \n",
      "2020-08-22               280519.0  \n",
      "2020-08-23               281457.0  \n",
      "2020-08-24               282215.0  \n",
      "2020-08-25               283280.0  \n",
      "2020-08-26               284155.0  \n",
      "2020-08-27               285505.0  \n",
      "2020-08-28               286611.0  \n",
      "2020-08-29               287502.0  \n",
      "2020-08-30               288989.0  \n",
      "2020-08-31               290138.0  \n",
      "2020-09-01               291179.0  \n",
      "2020-09-02               292418.0  \n",
      "2020-09-03               293925.0  \n",
      "2020-09-04               295594.0  \n",
      "2020-09-05               297071.0  \n",
      "2020-09-06               299647.0  \n",
      "2020-09-07               302175.0  \n",
      "2020-09-08               304269.0  \n",
      "2020-09-09               306555.0  \n",
      "2020-09-10               309133.0  \n",
      "2020-09-11               312276.0  \n",
      "2020-09-12               315284.0  \n",
      "2020-09-13               318121.0  \n",
      "2020-09-14               320380.0  \n",
      "2020-09-15               323029.0  \n",
      "2020-09-16               326425.0  \n",
      "2020-09-17               329213.0  \n",
      "2020-09-18               332984.0  \n",
      "2020-09-19               336622.0  \n",
      "2020-09-20               339901.0  \n",
      "2020-09-21               343655.0  \n",
      "2020-09-22               347842.0  \n",
      "2020-09-23               352925.0  \n",
      "2020-09-24               358557.0  \n",
      "2020-09-25               364280.0  \n",
      "2020-09-26               368919.0  \n",
      "2020-09-27               373719.0  \n",
      "2020-09-28               377035.0  \n",
      "2020-09-29               382686.0  \n",
      "2020-09-30               388342.0  \n",
      "2020-10-01               393931.0  \n",
      "(60, 5)\n"
     ]
    }
   ],
   "source": [
    "df.head()\n",
    "print(df)\n",
    "print(df.shape)"
   ]
  },
  {
   "cell_type": "code",
   "execution_count": 6,
   "metadata": {},
   "outputs": [
    {
     "data": {
      "text/plain": [
       "<matplotlib.axes._subplots.AxesSubplot at 0x147368110>"
      ]
     },
     "execution_count": 6,
     "metadata": {},
     "output_type": "execute_result"
    },
    {
     "data": {
      "image/png": "[encoded data removed]",
      "text/plain": [
       "<Figure size 432x288 with 1 Axes>"
      ]
     },
     "metadata": {
      "needs_background": "light"
     },
     "output_type": "display_data"
    }
   ],
   "source": [
    "pd.plotting.register_matplotlib_converters()\n",
    "df['cumCasesByPublishDate'].plot()"
   ]
  },
  {
   "cell_type": "code",
   "execution_count": 7,
   "metadata": {},
   "outputs": [
    {
     "data": {
      "text/plain": [
       "<matplotlib.axes._subplots.AxesSubplot at 0x148bad450>"
      ]
     },
     "execution_count": 7,
     "metadata": {},
     "output_type": "execute_result"
    },
    {
     "data": {
      "image/png": "[encoded data removed]",
      "text/plain": [
       "<Figure size 432x288 with 1 Axes>"
      ]
     },
     "metadata": {
      "needs_background": "light"
     },
     "output_type": "display_data"
    }
   ],
   "source": [
    "# TARGETCUMULATIVE = 'cumCasesBySpecimenDate'\n",
    "# TARGETNEW = 'newCasesBySpecimenDate'\n",
    "TARGET = 'newCasesByPublishDate'\n",
    "# TARGET = 'cumCasesByPublishDate'\n",
    "\n",
    "df[TARGET].plot()"
   ]
  },
  {
   "cell_type": "code",
   "execution_count": 8,
   "metadata": {},
   "outputs": [],
   "source": [
    "# Number of days to predict\n",
    "NUM_FUTURE_DAYS_PRED = 7\n",
    "\n",
    "def get_train_test_split_data(df, test_percent=0.15):\n",
    "    size = len(df)\n",
    "    split_idx = int(size * (1 - test_percent))\n",
    "    train_df = df[:split_idx]\n",
    "    test_df = df[split_idx:]\n",
    "    return train_df, test_df\n",
    "\n",
    "daily_cases_score_table = pd.DataFrame(columns= ['mse_test'])\n",
    "# cumulative_cases_score_table = pd.DataFrame(columns= ['r2_test','mse_test'])\n",
    "\n",
    "# For plotting the results\n",
    "def compute_result(algo, y_test, pred_test):\n",
    "    \n",
    "    # compute the performance\n",
    "#     r2_test = r2_score(y_test, pred_test)\n",
    "    mse_test = mean_squared_error(y_test, pred_test)\n",
    "    \n",
    "    # log the performance\n",
    "    daily_cases_score_table.loc[algo,:] = mse_test\n",
    "    \n",
    "# # For plotting the results\n",
    "# def compute_result2(algo, y_test, pred_test):\n",
    "\n",
    "#     # compute the performance\n",
    "#     r2_test = r2_score(y_test, pred_test)\n",
    "#     mse_test = mean_squared_error(y_test, pred_test)\n",
    "    \n",
    "#     # log the performance\n",
    "#     total_cases_score_table.loc[algo,:] = r2_test, mse_test"
   ]
  },
  {
   "cell_type": "code",
   "execution_count": 9,
   "metadata": {},
   "outputs": [
    {
     "data": {
      "text/plain": [
       "((51, 5), (9, 5))"
      ]
     },
     "execution_count": 9,
     "metadata": {},
     "output_type": "execute_result"
    }
   ],
   "source": [
    "# Split by 15%\n",
    "train_df, test_df = get_train_test_split_data(df, 0.15)\n",
    "train_df.shape, test_df.shape"
   ]
  },
  {
   "cell_type": "code",
   "execution_count": 10,
   "metadata": {},
   "outputs": [
    {
     "name": "stdout",
     "output_type": "stream",
     "text": [
      "Model: \"sequential\"\n",
      "_________________________________________________________________\n",
      "Layer (type)                 Output Shape              Param #   \n",
      "=================================================================\n",
      "lstm (LSTM)                  (None, 100)               40800     \n",
      "_________________________________________________________________\n",
      "dense (Dense)                (None, 1)                 101       \n",
      "=================================================================\n",
      "Total params: 40,901\n",
      "Trainable params: 40,901\n",
      "Non-trainable params: 0\n",
      "_________________________________________________________________\n"
     ]
    }
   ],
   "source": [
    "scaler = MinMaxScaler()\n",
    "\n",
    "scaler.fit(train_df[TARGET].values.reshape(-1, 1))\n",
    "scaled_train_data = scaler.transform(train_df[TARGET].values.reshape(-1, 1))\n",
    "scaled_test_data = scaler.transform(test_df[TARGET].values.reshape(-1, 1))\n",
    "\n",
    "input_length = 2\n",
    "num_features = 1\n",
    "\n",
    "generator = TimeseriesGenerator(scaled_train_data, scaled_train_data, length=input_length, batch_size=1)\n",
    "\n",
    "lstm_model = Sequential()\n",
    "lstm_model.add(LSTM(100, activation='relu', input_shape=(input_length, num_features)))\n",
    "lstm_model.add(Dense(1))\n",
    "lstm_model.compile(optimizer='adam', loss='mse')\n",
    "lstm_model.summary()"
   ]
  },
  {
   "cell_type": "code",
   "execution_count": 11,
   "metadata": {},
   "outputs": [
    {
     "name": "stdout",
     "output_type": "stream",
     "text": [
      "WARNING:tensorflow:From <ipython-input-11-afb85ad49de5>:1: Model.fit_generator (from tensorflow.python.keras.engine.training) is deprecated and will be removed in a future version.\n",
      "Instructions for updating:\n",
      "Please use Model.fit, which supports generators.\n",
      "Epoch 1/20\n",
      "49/49 [==============================] - 0s 7ms/step - loss: 0.1192\n",
      "Epoch 2/20\n",
      "49/49 [==============================] - 0s 5ms/step - loss: 0.0486\n",
      "Epoch 3/20\n",
      "49/49 [==============================] - 0s 5ms/step - loss: 0.0291\n",
      "Epoch 4/20\n",
      "49/49 [==============================] - 0s 5ms/step - loss: 0.0216\n",
      "Epoch 5/20\n",
      "49/49 [==============================] - 0s 6ms/step - loss: 0.0146\n",
      "Epoch 6/20\n",
      "49/49 [==============================] - 0s 5ms/step - loss: 0.0116\n",
      "Epoch 7/20\n",
      "49/49 [==============================] - 0s 4ms/step - loss: 0.0126\n",
      "Epoch 8/20\n",
      "49/49 [==============================] - 0s 6ms/step - loss: 0.0124\n",
      "Epoch 9/20\n",
      "49/49 [==============================] - 0s 4ms/step - loss: 0.0117\n",
      "Epoch 10/20\n",
      "49/49 [==============================] - 0s 4ms/step - loss: 0.0115\n",
      "Epoch 11/20\n",
      "49/49 [==============================] - 0s 4ms/step - loss: 0.0111\n",
      "Epoch 12/20\n",
      "49/49 [==============================] - 0s 4ms/step - loss: 0.0107\n",
      "Epoch 13/20\n",
      "49/49 [==============================] - 0s 4ms/step - loss: 0.0113\n",
      "Epoch 14/20\n",
      "49/49 [==============================] - 0s 4ms/step - loss: 0.0112\n",
      "Epoch 15/20\n",
      "49/49 [==============================] - 0s 6ms/step - loss: 0.0108\n",
      "Epoch 16/20\n",
      "49/49 [==============================] - 0s 5ms/step - loss: 0.0107\n",
      "Epoch 17/20\n",
      "49/49 [==============================] - 0s 7ms/step - loss: 0.0111\n",
      "Epoch 18/20\n",
      "49/49 [==============================] - 0s 6ms/step - loss: 0.0096\n",
      "Epoch 19/20\n",
      "49/49 [==============================] - 0s 6ms/step - loss: 0.0116\n",
      "Epoch 20/20\n",
      "49/49 [==============================] - 0s 7ms/step - loss: 0.0106\n"
     ]
    },
    {
     "data": {
      "image/png": "[encoded data removed]",
      "text/plain": [
       "<Figure size 864x288 with 1 Axes>"
      ]
     },
     "metadata": {
      "needs_background": "light"
     },
     "output_type": "display_data"
    }
   ],
   "source": [
    "lstm_model.fit_generator(generator, epochs=20)\n",
    "\n",
    "losses_lstm = lstm_model.history.history['loss']\n",
    "plt.figure(figsize=(12,4))\n",
    "plt.xticks(np.arange(0,21,1))\n",
    "plt.plot(range(len(losses_lstm)),losses_lstm);"
   ]
  },
  {
   "cell_type": "code",
   "execution_count": 12,
   "metadata": {},
   "outputs": [],
   "source": [
    "lstm_predictions_scaled = list()\n",
    "batch = scaled_train_data[-input_length:]\n",
    "current_batch = batch.reshape((1, input_length, num_features))\n",
    "\n",
    "for i in range(len(test_df)):   \n",
    "    lstm_pred = lstm_model.predict(current_batch)[0]\n",
    "    lstm_predictions_scaled.append(lstm_pred) \n",
    "    current_batch = np.append(current_batch[:,1:,:],[[lstm_pred]],axis=1)\n",
    "\n",
    "lstm_predictions = scaler.inverse_transform(lstm_predictions_scaled)\n",
    "\n",
    "\n",
    "\n",
    "lstm_model.save(\"model_lstm_test_new.h5\")"
   ]
  },
  {
   "cell_type": "code",
   "execution_count": 13,
   "metadata": {},
   "outputs": [
    {
     "name": "stdout",
     "output_type": "stream",
     "text": [
      "         mse_test\n",
      "LSTM  3.41708e+06\n"
     ]
    }
   ],
   "source": [
    "compute_result('LSTM', test_df[TARGET], lstm_predictions)\n",
    "\n",
    "print(daily_cases_score_table)"
   ]
  },
  {
   "cell_type": "code",
   "execution_count": 14,
   "metadata": {},
   "outputs": [
    {
     "name": "stderr",
     "output_type": "stream",
     "text": [
      "INFO:fbprophet:Disabling yearly seasonality. Run prophet with yearly_seasonality=True to override this.\n",
      "INFO:fbprophet:Disabling daily seasonality. Run prophet with daily_seasonality=True to override this.\n"
     ]
    }
   ],
   "source": [
    "# PROPHET_TARGET = 'cumCasesByPublishDate'\n",
    "PROPHET_TARGET = 'newCasesByPublishDate'\n",
    "\n",
    "def prepare_prophet_df(df):\n",
    "    prophet_df = pd.DataFrame()\n",
    "    prophet_df['ds'], prophet_df['y'] = df.index.to_series(), df[PROPHET_TARGET]\n",
    "    return prophet_df\n",
    "\n",
    "prophet_model = Prophet()\n",
    "propeht_train_df = prepare_prophet_df(train_df)\n",
    "propeht_test_df = prepare_prophet_df(test_df)\n",
    "res = prophet_model.fit(propeht_train_df)\n",
    "predictions = prophet_model.predict(propeht_test_df)"
   ]
  },
  {
   "cell_type": "code",
   "execution_count": 15,
   "metadata": {},
   "outputs": [
    {
     "data": {
      "image/png": "[encoded data removed]",
      "text/plain": [
       "<Figure size 720x432 with 1 Axes>"
      ]
     },
     "metadata": {},
     "output_type": "display_data"
    },
    {
     "name": "stdout",
     "output_type": "stream",
     "text": [
      "Daily cases score table: \n",
      "            mse_test\n",
      "LSTM     3.41708e+06\n",
      "Prophet  1.33672e+06\n"
     ]
    }
   ],
   "source": [
    "prophet_model.plot(predictions)\n",
    "\n",
    "y_pred = predictions['yhat']\n",
    "y_test = propeht_test_df['y']\n",
    "\n",
    "plt.plot(test_df.index, y_test, label='Actual')\n",
    "plt.plot(test_df.index, y_pred, label='Predicted')\n",
    "plt.legend()\n",
    "plt.show()\n",
    "\n",
    "\n",
    "compute_result('Prophet', y_test, y_pred)\n",
    "\n",
    "print('Daily cases score table: ')\n",
    "print(daily_cases_score_table)\n",
    "\n",
    "\n",
    "# print(\"Mean absolute percentage error: {}\".format(mape(test_df[PROPHET_TARGET].values, y_pred)))\n",
    "# print(\"MSE: {}\".format(mean_squared_error(test_df[PROPHET_TARGET].values, y_pred)))"
   ]
  },
  {
   "cell_type": "code",
   "execution_count": 16,
   "metadata": {},
   "outputs": [
    {
     "data": {
      "image/png": "[encoded data removed]",
      "text/plain": [
       "<Figure size 648x432 with 2 Axes>"
      ]
     },
     "metadata": {},
     "output_type": "display_data"
    }
   ],
   "source": [
    "prophet_model.plot_components(predictions)\n",
    "plt.show()"
   ]
  },
  {
   "cell_type": "code",
   "execution_count": 17,
   "metadata": {},
   "outputs": [],
   "source": [
    "# Predictions from LSTM:"
   ]
  },
  {
   "cell_type": "code",
   "execution_count": 18,
   "metadata": {},
   "outputs": [
    {
     "data": {
      "text/plain": [
       "(393931.0, numpy.datetime64('2020-10-01T00:00:00.000000000'))"
      ]
     },
     "execution_count": 18,
     "metadata": {},
     "output_type": "execute_result"
    }
   ],
   "source": [
    "df[TARGET]\n",
    "\n",
    "cases_so_far = df[-1:].cumCasesByPublishDate.values[0]\n",
    "last_date = df[-1:].index.values[0]\n",
    "cases_so_far, last_date"
   ]
  },
  {
   "cell_type": "code",
   "execution_count": 19,
   "metadata": {},
   "outputs": [
    {
     "data": {
      "text/html": [
       "<div>\n",
       "<style scoped>\n",
       "    .dataframe tbody tr th:only-of-type {\n",
       "        vertical-align: middle;\n",
       "    }\n",
       "\n",
       "    .dataframe tbody tr th {\n",
       "        vertical-align: top;\n",
       "    }\n",
       "\n",
       "    .dataframe thead th {\n",
       "        text-align: right;\n",
       "    }\n",
       "</style>\n",
       "<table border=\"1\" class=\"dataframe\">\n",
       "  <thead>\n",
       "    <tr style=\"text-align: right;\">\n",
       "      <th></th>\n",
       "      <th>new_predicted</th>\n",
       "      <th>total_predicted</th>\n",
       "    </tr>\n",
       "  </thead>\n",
       "  <tbody>\n",
       "    <tr>\n",
       "      <td>2020-10-01</td>\n",
       "      <td>5844</td>\n",
       "      <td>399775.0</td>\n",
       "    </tr>\n",
       "    <tr>\n",
       "      <td>2020-10-02</td>\n",
       "      <td>6368</td>\n",
       "      <td>406143.0</td>\n",
       "    </tr>\n",
       "    <tr>\n",
       "      <td>2020-10-03</td>\n",
       "      <td>6709</td>\n",
       "      <td>412852.0</td>\n",
       "    </tr>\n",
       "    <tr>\n",
       "      <td>2020-10-04</td>\n",
       "      <td>7294</td>\n",
       "      <td>420146.0</td>\n",
       "    </tr>\n",
       "    <tr>\n",
       "      <td>2020-10-05</td>\n",
       "      <td>7869</td>\n",
       "      <td>428015.0</td>\n",
       "    </tr>\n",
       "    <tr>\n",
       "      <td>2020-10-06</td>\n",
       "      <td>8673</td>\n",
       "      <td>436688.0</td>\n",
       "    </tr>\n",
       "    <tr>\n",
       "      <td>2020-10-07</td>\n",
       "      <td>9629</td>\n",
       "      <td>446317.0</td>\n",
       "    </tr>\n",
       "  </tbody>\n",
       "</table>\n",
       "</div>"
      ],
      "text/plain": [
       "            new_predicted  total_predicted\n",
       "2020-10-01           5844         399775.0\n",
       "2020-10-02           6368         406143.0\n",
       "2020-10-03           6709         412852.0\n",
       "2020-10-04           7294         420146.0\n",
       "2020-10-05           7869         428015.0\n",
       "2020-10-06           8673         436688.0\n",
       "2020-10-07           9629         446317.0"
      ]
     },
     "execution_count": 19,
     "metadata": {},
     "output_type": "execute_result"
    }
   ],
   "source": [
    "lstm_data = scaler.fit_transform(df[TARGET].values.reshape(-1, 1))\n",
    "generator = TimeseriesGenerator(lstm_data, lstm_data, length=input_length, batch_size=1)\n",
    "# lstm_model.fit_generator(generator, epochs=20)\n",
    "\n",
    "from tensorflow.keras.models import load_model\n",
    "lstm_model_loaded = load_model('model_lstm_test_new.h5')\n",
    "\n",
    "lstm_predictions_scaled = []\n",
    "batch = scaled_train_data[-input_length:]\n",
    "current_batch = batch.reshape((1, input_length, num_features))\n",
    "\n",
    "for i in range(NUM_FUTURE_DAYS_PRED):   \n",
    "    lstm_pred = lstm_model_loaded.predict(current_batch)[0]\n",
    "    lstm_predictions_scaled.append(lstm_pred) \n",
    "    current_batch = np.append(current_batch[:,1:,:],[[lstm_pred]],axis=1)\n",
    "\n",
    "lstm_predictions = scaler.inverse_transform(lstm_predictions_scaled)\n",
    "lstm_results = pd.DataFrame()\n",
    "lstm_results['new_predicted'] = lstm_predictions.flatten().astype(int)\n",
    "# lstm_results['new_predicted'] = lstm_results['total_predicted'].diff()\n",
    "lstm_results['total_predicted'] = lstm_results['new_predicted'].cumsum() + cases_so_far\n",
    "lstm_results.index = pd.date_range(start=last_date, periods=NUM_FUTURE_DAYS_PRED)\n",
    "lstm_results"
   ]
  },
  {
   "cell_type": "code",
   "execution_count": 20,
   "metadata": {},
   "outputs": [
    {
     "data": {
      "text/plain": [
       "<matplotlib.axes._subplots.AxesSubplot at 0x14b472d90>"
      ]
     },
     "execution_count": 20,
     "metadata": {},
     "output_type": "execute_result"
    },
    {
     "data": {
      "image/png": "[encoded data removed]",
      "text/plain": [
       "<Figure size 432x288 with 1 Axes>"
      ]
     },
     "metadata": {
      "needs_background": "light"
     },
     "output_type": "display_data"
    }
   ],
   "source": [
    "# New predicted cases using LSTM\n",
    "lstm_results['new_predicted'].plot()"
   ]
  },
  {
   "cell_type": "code",
   "execution_count": 22,
   "metadata": {},
   "outputs": [
    {
     "name": "stderr",
     "output_type": "stream",
     "text": [
      "INFO:fbprophet:Disabling yearly seasonality. Run prophet with yearly_seasonality=True to override this.\n",
      "INFO:fbprophet:Disabling daily seasonality. Run prophet with daily_seasonality=True to override this.\n"
     ]
    },
    {
     "data": {
      "text/html": [
       "<div>\n",
       "<style scoped>\n",
       "    .dataframe tbody tr th:only-of-type {\n",
       "        vertical-align: middle;\n",
       "    }\n",
       "\n",
       "    .dataframe tbody tr th {\n",
       "        vertical-align: top;\n",
       "    }\n",
       "\n",
       "    .dataframe thead th {\n",
       "        text-align: right;\n",
       "    }\n",
       "</style>\n",
       "<table border=\"1\" class=\"dataframe\">\n",
       "  <thead>\n",
       "    <tr style=\"text-align: right;\">\n",
       "      <th></th>\n",
       "      <th>new_predicted</th>\n",
       "      <th>total_predicted</th>\n",
       "    </tr>\n",
       "    <tr>\n",
       "      <th>ds</th>\n",
       "      <th></th>\n",
       "      <th></th>\n",
       "    </tr>\n",
       "  </thead>\n",
       "  <tbody>\n",
       "    <tr>\n",
       "      <td>2020-10-02</td>\n",
       "      <td>5685</td>\n",
       "      <td>399616.0</td>\n",
       "    </tr>\n",
       "    <tr>\n",
       "      <td>2020-10-03</td>\n",
       "      <td>5478</td>\n",
       "      <td>405094.0</td>\n",
       "    </tr>\n",
       "    <tr>\n",
       "      <td>2020-10-04</td>\n",
       "      <td>5717</td>\n",
       "      <td>410811.0</td>\n",
       "    </tr>\n",
       "    <tr>\n",
       "      <td>2020-10-05</td>\n",
       "      <td>5498</td>\n",
       "      <td>416309.0</td>\n",
       "    </tr>\n",
       "    <tr>\n",
       "      <td>2020-10-06</td>\n",
       "      <td>5926</td>\n",
       "      <td>422235.0</td>\n",
       "    </tr>\n",
       "    <tr>\n",
       "      <td>2020-10-07</td>\n",
       "      <td>6164</td>\n",
       "      <td>428399.0</td>\n",
       "    </tr>\n",
       "    <tr>\n",
       "      <td>2020-10-08</td>\n",
       "      <td>6365</td>\n",
       "      <td>434764.0</td>\n",
       "    </tr>\n",
       "  </tbody>\n",
       "</table>\n",
       "</div>"
      ],
      "text/plain": [
       "            new_predicted  total_predicted\n",
       "ds                                        \n",
       "2020-10-02           5685         399616.0\n",
       "2020-10-03           5478         405094.0\n",
       "2020-10-04           5717         410811.0\n",
       "2020-10-05           5498         416309.0\n",
       "2020-10-06           5926         422235.0\n",
       "2020-10-07           6164         428399.0\n",
       "2020-10-08           6365         434764.0"
      ]
     },
     "execution_count": 22,
     "metadata": {},
     "output_type": "execute_result"
    }
   ],
   "source": [
    "# Predictions from Prophet:\n",
    "\n",
    "prophet_model = Prophet()\n",
    "\n",
    "propeht_df = prepare_prophet_df(df)\n",
    "prophet_model.fit(propeht_df)\n",
    "\n",
    "future_df = prophet_model.make_future_dataframe(periods=NUM_FUTURE_DAYS_PRED, include_history=False)\n",
    "future_preds = prophet_model.predict(future_df)\n",
    "results = pd.DataFrame()\n",
    "results['new_predicted'] = future_preds['yhat'].astype(int)\n",
    "results['total_predicted'] = results['new_predicted'].cumsum() + cases_so_far\n",
    "results.index = future_preds['ds']\n",
    "results"
   ]
  },
  {
   "cell_type": "code",
   "execution_count": null,
   "metadata": {},
   "outputs": [],
   "source": []
  },
  {
   "cell_type": "code",
   "execution_count": null,
   "metadata": {},
   "outputs": [],
   "source": []
  },
  {
   "cell_type": "code",
   "execution_count": null,
   "metadata": {},
   "outputs": [],
   "source": []
  },
  {
   "cell_type": "code",
   "execution_count": null,
   "metadata": {},
   "outputs": [],
   "source": []
  }
 ],
 "metadata": {
  "kernelspec": {
   "display_name": "Python 3",
   "language": "python",
   "name": "python3"
  },
  "language_info": {
   "codemirror_mode": {
    "name": "ipython",
    "version": 3
   },
   "file_extension": ".py",
   "mimetype": "text/x-python",
   "name": "python",
   "nbconvert_exporter": "python",
   "pygments_lexer": "ipython3",
   "version": "3.7.4"
  }
 },
 "nbformat": 4,
 "nbformat_minor": 2
}
